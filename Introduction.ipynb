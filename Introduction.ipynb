{
 "cells": [
  {
   "cell_type": "markdown",
   "metadata": {},
   "source": [
    "# Optimizing a Collegiate Volleyball Conference Schedule\n",
    "\n",
    "I played varsity volleyball at Bowdoin College for four years. During that time, the coaches built the volleyball conference schedule based primarily on individual preferences. \n",
    "\n",
    "> \"We want to play Bates at home during the weekend of September 5th.\"\n",
    "\n",
    "> \"We want to play Colby at Middlebury during the weekend of October 10th.\" \n",
    "\n",
    "> \"We don't have Tufts on the schedule yet, do we have a free weekend? OK, we will play them at Williams that last free weekend, the weekend of October 6th.\" \n",
    "\n",
    "The schedule came together like a puzzle requiring multiple hours of negotiation and game reshuffling with a suboptimal result. During the 2009 season, Colby didn't have a single home game. During the 2012 season, Bowdoin drove five hours to a Friday evening match at Middlebury, played two hours, and then drove three hours to Amherst for a Saturday morning match.\n",
    "\n",
    "But is there a better way?\n",
    "\n",
    "Using a novel combination of k-means clustering and integer programming, we can create an optimized volleyball conference schedule that:\n",
    "- __Reduces total cost by up to 27%__ compared with previous NESCAC schedules\n",
    "- Evenly distributes and __reduces team travel duration by up to 22%__ compared with previous NESCAC schedules\n",
    "- Evenly distributes and __reduces team overnights \\* by up to 31%__ compared with previous NESCAC schedules\n",
    "- Ensures each team has at least one home game and evenly distributes additional team home games\n",
    "\n",
    "__\\*__ _A team overnight (hotel stay) occurs when a team plays a match on Friday and Saturday without returning home in between or when a team plays a match farther than a specified distance from home regardless of the day._\n",
    "\n",
    "We begin the process in the __[Review Previous NESCAC Volleyball Conference Schedules](./Review.ipynb)__ notebook. We introduce the New England Small College Athletic Conference (NESCAC) and the volleyball conference schedule requirements. We then scrape from the NESCAC website the previous NESCAC volleyball conference schedules for the 2009 season (my first year playing at Bowdoin) through the most recent 2017 season. Finally, we define metrics to use in analyzing each schedule, we analyze each schedule, and we review the analysis results.\n",
    "\n",
    "We then proceed to the __[Optimize the NESCAC Volleyball Conference Schedule](./Optimize.ipynb)__ notebook, where we perform the schedule optimization. We select and save the best individual schedules based on the defined scoring metric––__[schedule score](./Review.ipynb#score_metrics)__. We also select and save the best groups of two and four schedules, accounting for the average schedule score and match location coverage and changes.\n",
    "\n",
    "Finally, we review the optimization results and compare the optimized schedules to the previous NESCAC volleyball conference schedules in the __[Compare Single Optimized & Previous NESCAC Volleyball Conference Schedules](./Compare_Single.ipynb)__, the __[Compare Optimized & Previous NESCAC Volleyball Conference Schedule Pairs](./Compare_Pair.ipynb)__, and the __[Compare Optimized & Previous NESCAC Volleyball Conference Schedule Quads](./Compare_Quad.ipynb)__ notebooks."
   ]
  }
 ],
 "metadata": {
  "kernelspec": {
   "display_name": "Python 3 (ipykernel)",
   "language": "python",
   "name": "python3"
  },
  "language_info": {
   "codemirror_mode": {
    "name": "ipython",
    "version": 3
   },
   "file_extension": ".py",
   "mimetype": "text/x-python",
   "name": "python",
   "nbconvert_exporter": "python",
   "pygments_lexer": "ipython3",
   "version": "3.9.16"
  }
 },
 "nbformat": 4,
 "nbformat_minor": 2
}
