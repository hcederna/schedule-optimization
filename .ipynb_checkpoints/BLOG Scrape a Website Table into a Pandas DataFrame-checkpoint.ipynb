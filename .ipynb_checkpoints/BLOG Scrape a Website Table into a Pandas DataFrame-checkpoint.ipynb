{
 "cells": [
  {
   "cell_type": "markdown",
   "metadata": {},
   "source": [
    "# Scrape a Website Table into a Pandas DataFrame\n",
    "\n",
    "\n",
    "__Goal:__ Scrape the New England Small College Athletic Conference (NESCAC) volleyball schedule from the NESCAC website into a pandas DataFrame. Save a cleaned conference schedule DataFrame and team conference schedule DataFrame to a comma-separated value (CSV) file.\n",
    "\n",
    "\n",
    "We can scrape schedules from the NESCAC website in one of two ways:\n",
    "\n",
    "* Directly through the website using a URL \n",
    "* Indirectly through a saved version of the website's HTML\n",
    "\n",
    "The direct method involves fewer steps but is more vulnerable because a change in the website's format could break our code. This means that even though our code works today, there is no guarantee our code will work tomorrow. In contrast, the indirect method adds the step of saving the website's HTML to sidestep the potential for our code to break in the future. \n",
    "\n",
    "In our situation, we are dealing with a small number of HTML files, so we should prioritize code stability. We focus on scraping with a saved version of the website's HTML.\n",
    "\n",
    "We need to start with saving the HTML file. To do so, we open Google Chrome and navigate to the [2017 NESCAC Volleyball Schedule](http://www.nescac.com/sports/wvball/2017-18/schedule) website, right-click on the page, and click `Save As`.\n",
    "\n",
    "<img src=\"blog/scrape/images/1.png\">\n"
   ]
  },
  {
   "cell_type": "code",
   "execution_count": null,
   "metadata": {},
   "outputs": [],
   "source": []
  }
 ],
 "metadata": {
  "kernelspec": {
   "display_name": "Python 3",
   "language": "python",
   "name": "python3"
  },
  "language_info": {
   "codemirror_mode": {
    "name": "ipython",
    "version": 3
   },
   "file_extension": ".py",
   "mimetype": "text/x-python",
   "name": "python",
   "nbconvert_exporter": "python",
   "pygments_lexer": "ipython3",
   "version": "3.8.1"
  }
 },
 "nbformat": 4,
 "nbformat_minor": 4
}
