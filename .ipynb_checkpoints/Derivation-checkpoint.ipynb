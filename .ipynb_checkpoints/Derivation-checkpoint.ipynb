{
 "cells": [
  {
   "cell_type": "markdown",
   "metadata": {},
   "source": [
    "# How to Rewrite Jain's Fairness Index Using the Fairness Allocation Mark"
   ]
  },
  {
   "cell_type": "markdown",
   "metadata": {},
   "source": [
    " "
   ]
  },
  {
   "cell_type": "markdown",
   "metadata": {},
   "source": [
    "__We know the formula for Jain's fairness index is:__\n",
    "\n",
    "<div class=\"alert alert-block alert-warning\">\n",
    "\n",
    "$\\begin{align*} \\qquad f(x_1, x_2, \\cdots, x_n) = 100 * \\frac{(\\sum_{i=1}^{n} x_i)^2}{n * \\sum_{i=1}^{n} (x_i^2)}\\end{align*}$\n",
    "    \n",
    "</div>    "
   ]
  },
  {
   "cell_type": "markdown",
   "metadata": {},
   "source": [
    "__We can rewrite this as:__\n",
    "\n",
    "$\\begin{align*} \\qquad f(x_1, x_2, \\cdots, x_n) = 100 * \\frac{1}{n} * \\frac{(\\sum_{i=1}^{n} x_i) * (\\sum_{i=1}^{n} x_i)}{\\sum_{i=1}^{n} (x_i^2)}\\end{align*}$"
   ]
  },
  {
   "cell_type": "markdown",
   "metadata": {},
   "source": [
    "&nbsp;&nbsp;&nbsp;&nbsp;&nbsp;_We know for some $a$ that:_\n",
    "\n",
    "$\\begin{align*} \\qquad \\qquad a = \\frac{a}{1} = \\frac{1}{(\\frac{1}{a})} \\end{align*}$\n",
    "\n",
    "&nbsp;&nbsp;&nbsp;&nbsp;&nbsp;_It follows that if:_\n",
    "\n",
    "$\\begin{align*} \\qquad \\qquad a = \\sum_{i=1}^{n} x_i \\end{align*}$ \n",
    "\n",
    "&nbsp;&nbsp;&nbsp;&nbsp;&nbsp;_Then:_\n",
    "\n",
    "$\\begin{align*} \\qquad \\qquad \\sum_{i=1}^{n} x_i = \\frac{(\\sum_{i=1}^{n} x_i)}{1} = {\\frac{1}{(\\frac{1}{\\sum_{i=1}^{n} x_i})}} \\end{align*}$"
   ]
  },
  {
   "cell_type": "markdown",
   "metadata": {},
   "source": [
    "__Accordingly:__\n",
    "\n",
    "$\\begin{align*} \\qquad f(x_1, x_2, \\cdots, x_n) = 100 * \\frac{1}{n} * \\frac{(\\sum_{i=1}^{n} x_i)}{(\\frac{\\sum_{i=1}^{n} (x_i^2)}{\\sum_{i=1}^{n} x_i})}\\end{align*}$"
   ]
  },
  {
   "cell_type": "markdown",
   "metadata": {},
   "source": [
    "__Let's set:__\n",
    "\n",
    "<div class=\"alert alert-block alert-warning\">\n",
    "\n",
    "$\\begin{align*} \\qquad x_f = \\frac{\\sum_{i=1}^{n} (x_i^2)}{\\sum_{i=1}^{n} x_i} \\end{align*}$\n",
    "    \n",
    "</div>    "
   ]
  },
  {
   "cell_type": "markdown",
   "metadata": {},
   "source": [
    "__Then:__\n",
    "\n",
    "$\\begin{align*} \\qquad f(x_1, x_2, \\cdots, x_n) = 100 * \\frac{1}{n} * \\frac{(\\sum_{i=1}^{n} x_i)}{x_f}\\end{align*}$"
   ]
  },
  {
   "cell_type": "markdown",
   "metadata": {},
   "source": [
    "__Or:__\n",
    "\n",
    "$\\begin{align*} \\qquad f(x_1, x_2, \\cdots, x_n) = 100 * \\frac{1}{n} * \\frac{1}{x_f} * \\sum_{i=1}^{n} x_i\\end{align*}$"
   ]
  },
  {
   "cell_type": "markdown",
   "metadata": {},
   "source": [
    "&nbsp;&nbsp;&nbsp;&nbsp;&nbsp;_We know for some $b$ and some constant $c$ that:_\n",
    "\n",
    "$\\begin{align*} \\qquad \\qquad c * \\sum_{i} b_i = \\sum_{i} (c * b_i) \\end{align*}$\n",
    "\n",
    "\n",
    "&nbsp;&nbsp;&nbsp;&nbsp;&nbsp;_It follows that if:_\n",
    "\n",
    "$\\begin{align*} \\qquad \\qquad c = \\frac{1}{x_f} \\end{align*}$ \n",
    "\n",
    "&nbsp;&nbsp;&nbsp;&nbsp;&nbsp;_Then:_\n",
    "\n",
    "$\\begin{align*} \\qquad \\qquad \\frac{1}{x_f} * \\sum_{i} x_i = \\sum_{i} (\\frac{1}{x_f} * x_i) = \\sum_{i} (\\frac{x_i}{x_f}) \\end{align*}$\n"
   ]
  },
  {
   "cell_type": "markdown",
   "metadata": {},
   "source": [
    "__Accordingly:__\n",
    "\n",
    "<div class=\"alert alert-block alert-warning\">\n",
    "\n",
    "$\\begin{align*} \\qquad f(x_1, x_2, \\cdots, x_n) = 100 * \\frac{1}{n} * \\sum_{i=1}^{n} (\\frac{x_i}{x_f}) \\end{align*}$\n",
    "\n",
    "</div>    "
   ]
  }
 ],
 "metadata": {
  "kernelspec": {
   "display_name": "Python 3",
   "language": "python",
   "name": "python3"
  },
  "language_info": {
   "codemirror_mode": {
    "name": "ipython",
    "version": 3
   },
   "file_extension": ".py",
   "mimetype": "text/x-python",
   "name": "python",
   "nbconvert_exporter": "python",
   "pygments_lexer": "ipython3",
   "version": "3.7.6"
  }
 },
 "nbformat": 4,
 "nbformat_minor": 4
}
