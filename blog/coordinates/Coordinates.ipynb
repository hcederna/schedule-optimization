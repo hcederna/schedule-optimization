{
 "cells": [
  {
   "cell_type": "markdown",
   "metadata": {},
   "source": [
    "# Determine GPS Coordinates for a List of Locations & Save in a Pandas DataFrame\n",
    "\n",
    "__Goal:__ Query `Google Maps Geocoding API` for the GPS coordinates of multiple locations and create a `pandas` DataFrame of query results. Save the coordinates DataFrame to a comma-separated value (CSV) file.\n",
    "\n",
    "\n",
    "## Access the Google Maps Platform\n",
    "\n",
    "We utilize the `Google Maps Geocoding API` (a part of the Google Maps Platform) to determine coordinate values. To use this API, you need a Google Maps API key, which is available with a Google Account.\n",
    "\n",
    "<img src=\"images/google_maps_platform.png\">\n",
    "\n",
    "You must set up a billing account to use the Google Maps Platform. Fortunately, you get $200 in free usage every month. That is enough to determine a large number of GPS coordinates for free.\n",
    "\n",
    "1. Go to the [Google Cloud Platform Console](https://console.cloud.google.com/getting-started).\n",
    "2. Click the `navigation menu` button (the three horizontal lines in the upper left-hand corner).\n",
    "3. Select `Billing`.\n",
    "4. Set up your billing account.\n",
    "\n",
    "Now, let's create a `coordinates` project.\n",
    "\n",
    "1. Click the `navigation menu` button (the three horizontal lines in the upper left-hand corner).\n",
    "2. Select `Home`.\n",
    "3. Click on the project drop-down in the top navigation bar.\n",
    "4. Click `NEW PROJECT`.\n",
    "5. Enter `coordinates` in the `Project name` field.\n",
    "6. Click `Create`.\n",
    "\n",
    "Now, let's enable the necessary APIs.\n",
    "\n",
    "1. Click on the project drop-down in the top navigation bar.\n",
    "2. Select the `coordinates` project.\n",
    "3. Click the `navigation menu` button (the three horizontal lines in the upper left-hand corner).\n",
    "4. Select `APIs & Services`.\n",
    "5. Click `+ ENABLE APIS & SERVICES`.\n",
    "6. Search for and select the `Geocoding API`.\n",
    "7. Click `ENABLE`.\n",
    "\n",
    "Finally, let's create an API key.\n",
    "\n",
    "1. Click the `navigation menu` button (the three horizontal lines in the upper left-hand corner).\n",
    "2. Select `APIs & Services > Credentials`.\n",
    "3. Click `+ CREATE CREDENTIALS`.\n",
    "4. Select `API key`.\n",
    "5. Copy your API key. You use this in a second.\n",
    "\n",
    "\n",
    "## Collect Coordinates Data\n",
    "\n",
    "Now to a Jupyter notebook. To begin, we import necessary libraries."
   ]
  },
  {
   "cell_type": "code",
   "execution_count": 1,
   "metadata": {},
   "outputs": [],
   "source": [
    "# Import necessary libraries\n",
    "import googlemaps\n",
    "import pandas as pd"
   ]
  },
  {
   "cell_type": "markdown",
   "metadata": {},
   "source": [
    "We define a constant for our Google Maps API key (be sure to replace `YOUR_API_KEY` with your actual API key)."
   ]
  },
  {
   "cell_type": "code",
   "execution_count": 2,
   "metadata": {},
   "outputs": [],
   "source": [
    "# Enter Google Maps API key\n",
    "GOOGLE_MAPS_API_KEY = \"YOUR_API_KEY\""
   ]
  },
  {
   "cell_type": "markdown",
   "metadata": {},
   "source": [
    "There are several ways to create a list of locations. In our situation, we have a venues text file containing the venue names."
   ]
  },
  {
   "cell_type": "code",
   "execution_count": 3,
   "metadata": {},
   "outputs": [
    {
     "name": "stdout",
     "output_type": "stream",
     "text": [
      "Amherst College\n",
      "Bates College\n",
      "Bowdoin College\n",
      "Colby College\n",
      "Connecticut College\n",
      "Hamilton College\n",
      "Middlebury College\n",
      "Trinity College\n",
      "Tufts University\n",
      "Wesleyan University\n",
      "Williams College\n",
      "\n"
     ]
    }
   ],
   "source": [
    "# Print contents of venues text file\n",
    "with open('hard_data/all_venues.txt', 'r') as f:\n",
    "    \n",
    "    print(f.read())"
   ]
  },
  {
   "cell_type": "markdown",
   "metadata": {},
   "source": [
    "We use a list comprehension to read each line of the venue names file, strip extraneous white spaces, and create a venue names list composed of each stripped line."
   ]
  },
  {
   "cell_type": "code",
   "execution_count": 4,
   "metadata": {},
   "outputs": [
    {
     "data": {
      "text/plain": [
       "['Amherst College',\n",
       " 'Bates College',\n",
       " 'Bowdoin College',\n",
       " 'Colby College',\n",
       " 'Connecticut College',\n",
       " 'Hamilton College',\n",
       " 'Middlebury College',\n",
       " 'Trinity College',\n",
       " 'Tufts University',\n",
       " 'Wesleyan University',\n",
       " 'Williams College']"
      ]
     },
     "execution_count": 4,
     "metadata": {},
     "output_type": "execute_result"
    }
   ],
   "source": [
    "# Load venue names from file\n",
    "with open('hard_data/all_venues.txt', 'r') as f:\n",
    "    \n",
    "    # Create list of venue names\n",
    "    venue_names = [line.strip() for line in f]\n",
    "    \n",
    "# Preview list of venue names\n",
    "venue_names"
   ]
  },
  {
   "cell_type": "markdown",
   "metadata": {},
   "source": [
    "Looks good. We are now ready to harness the power of `Google Maps Geocoding API`. \n",
    "\n",
    "We instantiate a `Google Maps API` session and initialize a data dictionary to hold venue names and GPS coordinates. We will eventually use this dictionary to create a `pandas` DataFrame."
   ]
  },
  {
   "cell_type": "code",
   "execution_count": 5,
   "metadata": {},
   "outputs": [],
   "source": [
    "# Instantiate Google Maps API session\n",
    "gmaps = googlemaps.Client(GOOGLE_MAPS_API_KEY)\n",
    "\n",
    "# Initialize data dictionary to hold values\n",
    "coordinates_data = {\n",
    "    'Venue Name': [],\n",
    "    'Coordinates': [],\n",
    "    'Latitude': [],\n",
    "    'Longitude': []\n",
    "}"
   ]
  },
  {
   "cell_type": "markdown",
   "metadata": {},
   "source": [
    "Let's check out an example query using `Google Maps Geocoding API`."
   ]
  },
  {
   "cell_type": "code",
   "execution_count": 10,
   "metadata": {},
   "outputs": [
    {
     "data": {
      "text/plain": [
       "[{'address_components': [{'long_name': 'Amherst',\n",
       "    'short_name': 'Amherst',\n",
       "    'types': ['locality', 'political']},\n",
       "   {'long_name': 'Amherst Center',\n",
       "    'short_name': 'Amherst Center',\n",
       "    'types': ['neighborhood', 'political']},\n",
       "   {'long_name': 'Hampshire County',\n",
       "    'short_name': 'Hampshire County',\n",
       "    'types': ['administrative_area_level_2', 'political']},\n",
       "   {'long_name': 'Massachusetts',\n",
       "    'short_name': 'MA',\n",
       "    'types': ['administrative_area_level_1', 'political']},\n",
       "   {'long_name': 'United States',\n",
       "    'short_name': 'US',\n",
       "    'types': ['country', 'political']},\n",
       "   {'long_name': '01002', 'short_name': '01002', 'types': ['postal_code']}],\n",
       "  'formatted_address': 'Amherst, MA 01002, USA',\n",
       "  'geometry': {'location': {'lat': 42.3709104, 'lng': -72.5170028},\n",
       "   'location_type': 'GEOMETRIC_CENTER',\n",
       "   'viewport': {'northeast': {'lat': 42.3722593802915,\n",
       "     'lng': -72.5156538197085},\n",
       "    'southwest': {'lat': 42.3695614197085, 'lng': -72.51835178029151}}},\n",
       "  'place_id': 'ChIJjzZMG_jN5okRvCYRnhDnGUo',\n",
       "  'plus_code': {'compound_code': '9FCM+95 Amherst, Belchertown, MA, United States',\n",
       "   'global_code': '87J99FCM+95'},\n",
       "  'types': ['establishment',\n",
       "   'museum',\n",
       "   'point_of_interest',\n",
       "   'school',\n",
       "   'university']}]"
      ]
     },
     "execution_count": 10,
     "metadata": {},
     "output_type": "execute_result"
    }
   ],
   "source": [
    "# Set example venue\n",
    "venue = venue_names[0]\n",
    "\n",
    "# Query Google Maps API for GPS coordinates\n",
    "results = gmaps.geocode(address=venue)\n",
    "\n",
    "# Preview results\n",
    "results"
   ]
  },
  {
   "cell_type": "markdown",
   "metadata": {},
   "source": [
    "The query result is formatted using JSON, but how do we extract the latitude and longitude values? We take it one step at a time."
   ]
  },
  {
   "cell_type": "code",
   "execution_count": 11,
   "metadata": {},
   "outputs": [
    {
     "data": {
      "text/plain": [
       "{'address_components': [{'long_name': 'Amherst',\n",
       "   'short_name': 'Amherst',\n",
       "   'types': ['locality', 'political']},\n",
       "  {'long_name': 'Amherst Center',\n",
       "   'short_name': 'Amherst Center',\n",
       "   'types': ['neighborhood', 'political']},\n",
       "  {'long_name': 'Hampshire County',\n",
       "   'short_name': 'Hampshire County',\n",
       "   'types': ['administrative_area_level_2', 'political']},\n",
       "  {'long_name': 'Massachusetts',\n",
       "   'short_name': 'MA',\n",
       "   'types': ['administrative_area_level_1', 'political']},\n",
       "  {'long_name': 'United States',\n",
       "   'short_name': 'US',\n",
       "   'types': ['country', 'political']},\n",
       "  {'long_name': '01002', 'short_name': '01002', 'types': ['postal_code']}],\n",
       " 'formatted_address': 'Amherst, MA 01002, USA',\n",
       " 'geometry': {'location': {'lat': 42.3709104, 'lng': -72.5170028},\n",
       "  'location_type': 'GEOMETRIC_CENTER',\n",
       "  'viewport': {'northeast': {'lat': 42.3722593802915,\n",
       "    'lng': -72.5156538197085},\n",
       "   'southwest': {'lat': 42.3695614197085, 'lng': -72.51835178029151}}},\n",
       " 'place_id': 'ChIJjzZMG_jN5okRvCYRnhDnGUo',\n",
       " 'plus_code': {'compound_code': '9FCM+95 Amherst, Belchertown, MA, United States',\n",
       "  'global_code': '87J99FCM+95'},\n",
       " 'types': ['establishment',\n",
       "  'museum',\n",
       "  'point_of_interest',\n",
       "  'school',\n",
       "  'university']}"
      ]
     },
     "execution_count": 11,
     "metadata": {},
     "output_type": "execute_result"
    }
   ],
   "source": [
    "results[0]"
   ]
  },
  {
   "cell_type": "code",
   "execution_count": 12,
   "metadata": {},
   "outputs": [
    {
     "data": {
      "text/plain": [
       "{'location': {'lat': 42.3709104, 'lng': -72.5170028},\n",
       " 'location_type': 'GEOMETRIC_CENTER',\n",
       " 'viewport': {'northeast': {'lat': 42.3722593802915, 'lng': -72.5156538197085},\n",
       "  'southwest': {'lat': 42.3695614197085, 'lng': -72.51835178029151}}}"
      ]
     },
     "execution_count": 12,
     "metadata": {},
     "output_type": "execute_result"
    }
   ],
   "source": [
    "results[0]['geometry']"
   ]
  },
  {
   "cell_type": "code",
   "execution_count": 13,
   "metadata": {},
   "outputs": [
    {
     "data": {
      "text/plain": [
       "{'lat': 42.3709104, 'lng': -72.5170028}"
      ]
     },
     "execution_count": 13,
     "metadata": {},
     "output_type": "execute_result"
    }
   ],
   "source": [
    "results[0]['geometry']['location']"
   ]
  },
  {
   "cell_type": "code",
   "execution_count": 14,
   "metadata": {},
   "outputs": [
    {
     "data": {
      "text/plain": [
       "42.3709104"
      ]
     },
     "execution_count": 14,
     "metadata": {},
     "output_type": "execute_result"
    }
   ],
   "source": [
    "results[0]['geometry']['location']['lat']"
   ]
  },
  {
   "cell_type": "code",
   "execution_count": 16,
   "metadata": {},
   "outputs": [
    {
     "data": {
      "text/plain": [
       "-72.5170028"
      ]
     },
     "execution_count": 16,
     "metadata": {},
     "output_type": "execute_result"
    }
   ],
   "source": [
    "results[0]['geometry']['location']['lng']"
   ]
  },
  {
   "cell_type": "markdown",
   "metadata": {},
   "source": [
    "Success. We create a coordinates tuple using the latitude and longitude values."
   ]
  },
  {
   "cell_type": "code",
   "execution_count": 17,
   "metadata": {},
   "outputs": [],
   "source": [
    "# Extract latitude and longitude\n",
    "latitude = results[0]['geometry']['location']['lat']\n",
    "longitude = results[0]['geometry']['location']['lng']\n",
    "\n",
    "# Create coordinates tuple\n",
    "coordinates = (latitude, longitude)"
   ]
  },
  {
   "cell_type": "markdown",
   "metadata": {},
   "source": [
    "We iterate over each venue in our list of venue names and query `Google Maps API` for the coordinates. If coordinates are found, we add the venue name and coordinates to our data dictionary. If coordinates are not found, we print an error message."
   ]
  },
  {
   "cell_type": "code",
   "execution_count": 18,
   "metadata": {},
   "outputs": [],
   "source": [
    "for venue_name in venue_names:\n",
    "\n",
    "    try:\n",
    "\n",
    "        # Query Google Maps API for GPS coordinates\n",
    "        results = gmaps.geocode(address=venue_name)\n",
    "\n",
    "        # Extract latitude and longitude\n",
    "        latitude = results[0]['geometry']['location']['lat']\n",
    "        longitude = results[0]['geometry']['location']['lng']\n",
    "\n",
    "        # Create coordinates tuple\n",
    "        coordinates = (latitude, longitude)\n",
    "\n",
    "        # Add values to data dictionary\n",
    "        coordinates_data['Venue Name'].append(venue_name)\n",
    "        coordinates_data['Coordinates'].append(coordinates)\n",
    "        coordinates_data['Latitude'].append(latitude)\n",
    "        coordinates_data['Longitude'].append(longitude)\n",
    "\n",
    "    except Exception:\n",
    "\n",
    "        raise Exception(\"Error finding the GPS coordinates for {}.\".format(venue_name))"
   ]
  },
  {
   "cell_type": "markdown",
   "metadata": {},
   "source": [
    "Once we have iterated over all venues in our list, we create and preview a coordinates DataFrame."
   ]
  },
  {
   "cell_type": "code",
   "execution_count": 20,
   "metadata": {},
   "outputs": [
    {
     "data": {
      "text/html": [
       "<div>\n",
       "<style scoped>\n",
       "    .dataframe tbody tr th:only-of-type {\n",
       "        vertical-align: middle;\n",
       "    }\n",
       "\n",
       "    .dataframe tbody tr th {\n",
       "        vertical-align: top;\n",
       "    }\n",
       "\n",
       "    .dataframe thead th {\n",
       "        text-align: right;\n",
       "    }\n",
       "</style>\n",
       "<table border=\"1\" class=\"dataframe\">\n",
       "  <thead>\n",
       "    <tr style=\"text-align: right;\">\n",
       "      <th></th>\n",
       "      <th>Venue Name</th>\n",
       "      <th>Coordinates</th>\n",
       "      <th>Latitude</th>\n",
       "      <th>Longitude</th>\n",
       "    </tr>\n",
       "  </thead>\n",
       "  <tbody>\n",
       "    <tr>\n",
       "      <th>0</th>\n",
       "      <td>Amherst College</td>\n",
       "      <td>(42.3709104, -72.5170028)</td>\n",
       "      <td>42.370910</td>\n",
       "      <td>-72.517003</td>\n",
       "    </tr>\n",
       "    <tr>\n",
       "      <th>1</th>\n",
       "      <td>Bates College</td>\n",
       "      <td>(44.1057216, -70.2021865)</td>\n",
       "      <td>44.105722</td>\n",
       "      <td>-70.202186</td>\n",
       "    </tr>\n",
       "    <tr>\n",
       "      <th>2</th>\n",
       "      <td>Bowdoin College</td>\n",
       "      <td>(43.9076929, -69.9639971)</td>\n",
       "      <td>43.907693</td>\n",
       "      <td>-69.963997</td>\n",
       "    </tr>\n",
       "    <tr>\n",
       "      <th>3</th>\n",
       "      <td>Colby College</td>\n",
       "      <td>(44.5638691, -69.6626362)</td>\n",
       "      <td>44.563869</td>\n",
       "      <td>-69.662636</td>\n",
       "    </tr>\n",
       "    <tr>\n",
       "      <th>4</th>\n",
       "      <td>Connecticut College</td>\n",
       "      <td>(41.3786923, -72.1046019)</td>\n",
       "      <td>41.378692</td>\n",
       "      <td>-72.104602</td>\n",
       "    </tr>\n",
       "    <tr>\n",
       "      <th>5</th>\n",
       "      <td>Hamilton College</td>\n",
       "      <td>(43.0527984, -75.4059719)</td>\n",
       "      <td>43.052798</td>\n",
       "      <td>-75.405972</td>\n",
       "    </tr>\n",
       "    <tr>\n",
       "      <th>6</th>\n",
       "      <td>Middlebury College</td>\n",
       "      <td>(44.0081076, -73.1760413)</td>\n",
       "      <td>44.008108</td>\n",
       "      <td>-73.176041</td>\n",
       "    </tr>\n",
       "    <tr>\n",
       "      <th>7</th>\n",
       "      <td>Trinity College</td>\n",
       "      <td>(41.7478797, -72.6905199)</td>\n",
       "      <td>41.747880</td>\n",
       "      <td>-72.690520</td>\n",
       "    </tr>\n",
       "    <tr>\n",
       "      <th>8</th>\n",
       "      <td>Tufts University</td>\n",
       "      <td>(42.4074843, -71.1190232)</td>\n",
       "      <td>42.407484</td>\n",
       "      <td>-71.119023</td>\n",
       "    </tr>\n",
       "    <tr>\n",
       "      <th>9</th>\n",
       "      <td>Wesleyan University</td>\n",
       "      <td>(41.5566104, -72.65690409999999)</td>\n",
       "      <td>41.556610</td>\n",
       "      <td>-72.656904</td>\n",
       "    </tr>\n",
       "    <tr>\n",
       "      <th>10</th>\n",
       "      <td>Williams College</td>\n",
       "      <td>(42.7128843, -73.20313949999999)</td>\n",
       "      <td>42.712884</td>\n",
       "      <td>-73.203139</td>\n",
       "    </tr>\n",
       "  </tbody>\n",
       "</table>\n",
       "</div>"
      ],
      "text/plain": [
       "             Venue Name                       Coordinates   Latitude  \\\n",
       "0       Amherst College         (42.3709104, -72.5170028)  42.370910   \n",
       "1         Bates College         (44.1057216, -70.2021865)  44.105722   \n",
       "2       Bowdoin College         (43.9076929, -69.9639971)  43.907693   \n",
       "3         Colby College         (44.5638691, -69.6626362)  44.563869   \n",
       "4   Connecticut College         (41.3786923, -72.1046019)  41.378692   \n",
       "5      Hamilton College         (43.0527984, -75.4059719)  43.052798   \n",
       "6    Middlebury College         (44.0081076, -73.1760413)  44.008108   \n",
       "7       Trinity College         (41.7478797, -72.6905199)  41.747880   \n",
       "8      Tufts University         (42.4074843, -71.1190232)  42.407484   \n",
       "9   Wesleyan University  (41.5566104, -72.65690409999999)  41.556610   \n",
       "10     Williams College  (42.7128843, -73.20313949999999)  42.712884   \n",
       "\n",
       "    Longitude  \n",
       "0  -72.517003  \n",
       "1  -70.202186  \n",
       "2  -69.963997  \n",
       "3  -69.662636  \n",
       "4  -72.104602  \n",
       "5  -75.405972  \n",
       "6  -73.176041  \n",
       "7  -72.690520  \n",
       "8  -71.119023  \n",
       "9  -72.656904  \n",
       "10 -73.203139  "
      ]
     },
     "execution_count": 20,
     "metadata": {},
     "output_type": "execute_result"
    }
   ],
   "source": [
    "# Create coordinates DataFrame\n",
    "coordinates_df = pd.DataFrame(coordinates_data)\n",
    "\n",
    "# Preview coordinates DataFrame\n",
    "coordinates_df"
   ]
  },
  {
   "cell_type": "markdown",
   "metadata": {},
   "source": [
    "All set.\n",
    "\n",
    "\n",
    "## Map Venue Names to Venue IDs\n",
    "\n",
    "We ultimately want to use our coordinates DataFrame in correspondence with a DataFrame that identifies the same list of venues with a unique integer ID rather than a string venue name. For this to work, we need the venue identifiers in both DataFrames to align. \n",
    "\n",
    "The venue name to venue ID mapping in the other DataFrame assigns consecutive IDs to an alphabetically-sorted (A to Z) list of venue names. We can build a corresponding venue name to ID mapping dictionary."
   ]
  },
  {
   "cell_type": "code",
   "execution_count": 21,
   "metadata": {},
   "outputs": [
    {
     "data": {
      "text/plain": [
       "{'Amherst College': 0,\n",
       " 'Bates College': 1,\n",
       " 'Bowdoin College': 2,\n",
       " 'Colby College': 3,\n",
       " 'Connecticut College': 4,\n",
       " 'Hamilton College': 5,\n",
       " 'Middlebury College': 6,\n",
       " 'Trinity College': 7,\n",
       " 'Tufts University': 8,\n",
       " 'Wesleyan University': 9,\n",
       " 'Williams College': 10}"
      ]
     },
     "execution_count": 21,
     "metadata": {},
     "output_type": "execute_result"
    }
   ],
   "source": [
    "# Sort list of venue names\n",
    "venue_names.sort()\n",
    "\n",
    "# Create dictionary for venue name to venue id mapping\n",
    "name_to_id_mapping = {venue: idx for idx, venue in enumerate(venue_names)}\n",
    "\n",
    "# Preview dictionary\n",
    "name_to_id_mapping"
   ]
  },
  {
   "cell_type": "markdown",
   "metadata": {},
   "source": [
    "We then use the `replace` function to apply the mapping of venue names to IDs in our coordinates DataFrame."
   ]
  },
  {
   "cell_type": "code",
   "execution_count": 23,
   "metadata": {},
   "outputs": [
    {
     "data": {
      "text/html": [
       "<div>\n",
       "<style scoped>\n",
       "    .dataframe tbody tr th:only-of-type {\n",
       "        vertical-align: middle;\n",
       "    }\n",
       "\n",
       "    .dataframe tbody tr th {\n",
       "        vertical-align: top;\n",
       "    }\n",
       "\n",
       "    .dataframe thead th {\n",
       "        text-align: right;\n",
       "    }\n",
       "</style>\n",
       "<table border=\"1\" class=\"dataframe\">\n",
       "  <thead>\n",
       "    <tr style=\"text-align: right;\">\n",
       "      <th></th>\n",
       "      <th>Venue Name</th>\n",
       "      <th>Coordinates</th>\n",
       "      <th>Latitude</th>\n",
       "      <th>Longitude</th>\n",
       "    </tr>\n",
       "  </thead>\n",
       "  <tbody>\n",
       "    <tr>\n",
       "      <th>0</th>\n",
       "      <td>0</td>\n",
       "      <td>(42.3709104, -72.5170028)</td>\n",
       "      <td>42.370910</td>\n",
       "      <td>-72.517003</td>\n",
       "    </tr>\n",
       "    <tr>\n",
       "      <th>1</th>\n",
       "      <td>1</td>\n",
       "      <td>(44.1057216, -70.2021865)</td>\n",
       "      <td>44.105722</td>\n",
       "      <td>-70.202186</td>\n",
       "    </tr>\n",
       "    <tr>\n",
       "      <th>2</th>\n",
       "      <td>2</td>\n",
       "      <td>(43.9076929, -69.9639971)</td>\n",
       "      <td>43.907693</td>\n",
       "      <td>-69.963997</td>\n",
       "    </tr>\n",
       "    <tr>\n",
       "      <th>3</th>\n",
       "      <td>3</td>\n",
       "      <td>(44.5638691, -69.6626362)</td>\n",
       "      <td>44.563869</td>\n",
       "      <td>-69.662636</td>\n",
       "    </tr>\n",
       "    <tr>\n",
       "      <th>4</th>\n",
       "      <td>4</td>\n",
       "      <td>(41.3786923, -72.1046019)</td>\n",
       "      <td>41.378692</td>\n",
       "      <td>-72.104602</td>\n",
       "    </tr>\n",
       "  </tbody>\n",
       "</table>\n",
       "</div>"
      ],
      "text/plain": [
       "   Venue Name                Coordinates   Latitude  Longitude\n",
       "0           0  (42.3709104, -72.5170028)  42.370910 -72.517003\n",
       "1           1  (44.1057216, -70.2021865)  44.105722 -70.202186\n",
       "2           2  (43.9076929, -69.9639971)  43.907693 -69.963997\n",
       "3           3  (44.5638691, -69.6626362)  44.563869 -69.662636\n",
       "4           4  (41.3786923, -72.1046019)  41.378692 -72.104602"
      ]
     },
     "execution_count": 23,
     "metadata": {},
     "output_type": "execute_result"
    }
   ],
   "source": [
    "# Map venue name to venue id in DataFrame\n",
    "coordinates_df = coordinates_df.replace({\n",
    "    'Venue Name': name_to_id_mapping})\n",
    "\n",
    "# Preview DataFrame\n",
    "coordinates_df.head()"
   ]
  },
  {
   "cell_type": "markdown",
   "metadata": {},
   "source": [
    "It looks like our coordinates DataFrame is all set. \n",
    "\n",
    "As a final step, we save our DataFrame to CSV so we can access it elsewhere."
   ]
  },
  {
   "cell_type": "code",
   "execution_count": 25,
   "metadata": {},
   "outputs": [],
   "source": [
    "# Save coordinates DataFrame to CSV\n",
    "coordinates_df.to_csv('data/venues_coordinates.csv')"
   ]
  },
  {
   "cell_type": "markdown",
   "metadata": {},
   "source": [
    "Done!"
   ]
  }
 ],
 "metadata": {
  "kernelspec": {
   "display_name": "Python 3",
   "language": "python",
   "name": "python3"
  },
  "language_info": {
   "codemirror_mode": {
    "name": "ipython",
    "version": 3
   },
   "file_extension": ".py",
   "mimetype": "text/x-python",
   "name": "python",
   "nbconvert_exporter": "python",
   "pygments_lexer": "ipython3",
   "version": "3.7.6"
  }
 },
 "nbformat": 4,
 "nbformat_minor": 4
}
